{
 "cells": [
  {
   "cell_type": "code",
   "execution_count": 2,
   "metadata": {},
   "outputs": [
    {
     "name": "stdout",
     "output_type": "stream",
     "text": [
      "Requirement already satisfied: numpy==1.26.4 in c:\\users\\manna\\anaconda3\\envs\\tensorflow_env1\\lib\\site-packages (1.26.4)\n",
      "Note: you may need to restart the kernel to use updated packages.\n",
      "Requirement already satisfied: flask in c:\\users\\manna\\anaconda3\\envs\\tensorflow_env1\\lib\\site-packages (3.1.0)\n",
      "Requirement already satisfied: Werkzeug>=3.1 in c:\\users\\manna\\anaconda3\\envs\\tensorflow_env1\\lib\\site-packages (from flask) (3.1.3)\n",
      "Requirement already satisfied: Jinja2>=3.1.2 in c:\\users\\manna\\anaconda3\\envs\\tensorflow_env1\\lib\\site-packages (from flask) (3.1.5)\n",
      "Requirement already satisfied: itsdangerous>=2.2 in c:\\users\\manna\\anaconda3\\envs\\tensorflow_env1\\lib\\site-packages (from flask) (2.2.0)\n",
      "Requirement already satisfied: click>=8.1.3 in c:\\users\\manna\\anaconda3\\envs\\tensorflow_env1\\lib\\site-packages (from flask) (8.1.8)\n",
      "Requirement already satisfied: blinker>=1.9 in c:\\users\\manna\\anaconda3\\envs\\tensorflow_env1\\lib\\site-packages (from flask) (1.9.0)\n",
      "Requirement already satisfied: colorama in c:\\users\\manna\\anaconda3\\envs\\tensorflow_env1\\lib\\site-packages (from click>=8.1.3->flask) (0.4.6)\n",
      "Requirement already satisfied: MarkupSafe>=2.0 in c:\\users\\manna\\anaconda3\\envs\\tensorflow_env1\\lib\\site-packages (from Jinja2>=3.1.2->flask) (3.0.2)\n",
      "Note: you may need to restart the kernel to use updated packages.\n"
     ]
    }
   ],
   "source": [
    "%pip install numpy==1.26.4\n",
    "%pip install flask"
   ]
  },
  {
   "cell_type": "code",
   "execution_count": 3,
   "metadata": {},
   "outputs": [
    {
     "name": "stdout",
     "output_type": "stream",
     "text": [
      "Requirement already satisfied: tensorflow==2.14.0 in c:\\users\\manna\\anaconda3\\envs\\tensorflow_env1\\lib\\site-packages (2.14.0)\n",
      "Requirement already satisfied: tensorflow-intel==2.14.0 in c:\\users\\manna\\anaconda3\\envs\\tensorflow_env1\\lib\\site-packages (from tensorflow==2.14.0) (2.14.0)\n",
      "Requirement already satisfied: absl-py>=1.0.0 in c:\\users\\manna\\anaconda3\\envs\\tensorflow_env1\\lib\\site-packages (from tensorflow-intel==2.14.0->tensorflow==2.14.0) (2.1.0)\n",
      "Requirement already satisfied: astunparse>=1.6.0 in c:\\users\\manna\\anaconda3\\envs\\tensorflow_env1\\lib\\site-packages (from tensorflow-intel==2.14.0->tensorflow==2.14.0) (1.6.3)\n",
      "Requirement already satisfied: flatbuffers>=23.5.26 in c:\\users\\manna\\anaconda3\\envs\\tensorflow_env1\\lib\\site-packages (from tensorflow-intel==2.14.0->tensorflow==2.14.0) (25.2.10)\n",
      "Requirement already satisfied: gast!=0.5.0,!=0.5.1,!=0.5.2,>=0.2.1 in c:\\users\\manna\\anaconda3\\envs\\tensorflow_env1\\lib\\site-packages (from tensorflow-intel==2.14.0->tensorflow==2.14.0) (0.6.0)\n",
      "Requirement already satisfied: google-pasta>=0.1.1 in c:\\users\\manna\\anaconda3\\envs\\tensorflow_env1\\lib\\site-packages (from tensorflow-intel==2.14.0->tensorflow==2.14.0) (0.2.0)\n",
      "Requirement already satisfied: h5py>=2.9.0 in c:\\users\\manna\\anaconda3\\envs\\tensorflow_env1\\lib\\site-packages (from tensorflow-intel==2.14.0->tensorflow==2.14.0) (3.13.0)\n",
      "Requirement already satisfied: libclang>=13.0.0 in c:\\users\\manna\\anaconda3\\envs\\tensorflow_env1\\lib\\site-packages (from tensorflow-intel==2.14.0->tensorflow==2.14.0) (18.1.1)\n",
      "Requirement already satisfied: ml-dtypes==0.2.0 in c:\\users\\manna\\anaconda3\\envs\\tensorflow_env1\\lib\\site-packages (from tensorflow-intel==2.14.0->tensorflow==2.14.0) (0.2.0)\n",
      "Requirement already satisfied: numpy>=1.23.5 in c:\\users\\manna\\anaconda3\\envs\\tensorflow_env1\\lib\\site-packages (from tensorflow-intel==2.14.0->tensorflow==2.14.0) (1.26.4)\n",
      "Requirement already satisfied: opt-einsum>=2.3.2 in c:\\users\\manna\\anaconda3\\envs\\tensorflow_env1\\lib\\site-packages (from tensorflow-intel==2.14.0->tensorflow==2.14.0) (3.4.0)\n",
      "Requirement already satisfied: packaging in c:\\users\\manna\\anaconda3\\envs\\tensorflow_env1\\lib\\site-packages (from tensorflow-intel==2.14.0->tensorflow==2.14.0) (24.2)\n",
      "Requirement already satisfied: protobuf!=4.21.0,!=4.21.1,!=4.21.2,!=4.21.3,!=4.21.4,!=4.21.5,<5.0.0dev,>=3.20.3 in c:\\users\\manna\\anaconda3\\envs\\tensorflow_env1\\lib\\site-packages (from tensorflow-intel==2.14.0->tensorflow==2.14.0) (4.25.6)\n",
      "Requirement already satisfied: setuptools in c:\\users\\manna\\anaconda3\\envs\\tensorflow_env1\\lib\\site-packages (from tensorflow-intel==2.14.0->tensorflow==2.14.0) (75.8.0)\n",
      "Requirement already satisfied: six>=1.12.0 in c:\\users\\manna\\anaconda3\\envs\\tensorflow_env1\\lib\\site-packages (from tensorflow-intel==2.14.0->tensorflow==2.14.0) (1.17.0)\n",
      "Requirement already satisfied: termcolor>=1.1.0 in c:\\users\\manna\\anaconda3\\envs\\tensorflow_env1\\lib\\site-packages (from tensorflow-intel==2.14.0->tensorflow==2.14.0) (2.5.0)\n",
      "Requirement already satisfied: typing-extensions>=3.6.6 in c:\\users\\manna\\anaconda3\\envs\\tensorflow_env1\\lib\\site-packages (from tensorflow-intel==2.14.0->tensorflow==2.14.0) (4.12.2)\n",
      "Requirement already satisfied: wrapt<1.15,>=1.11.0 in c:\\users\\manna\\anaconda3\\envs\\tensorflow_env1\\lib\\site-packages (from tensorflow-intel==2.14.0->tensorflow==2.14.0) (1.14.1)\n",
      "Requirement already satisfied: tensorflow-io-gcs-filesystem>=0.23.1 in c:\\users\\manna\\anaconda3\\envs\\tensorflow_env1\\lib\\site-packages (from tensorflow-intel==2.14.0->tensorflow==2.14.0) (0.31.0)\n",
      "Requirement already satisfied: grpcio<2.0,>=1.24.3 in c:\\users\\manna\\anaconda3\\envs\\tensorflow_env1\\lib\\site-packages (from tensorflow-intel==2.14.0->tensorflow==2.14.0) (1.70.0)\n",
      "Requirement already satisfied: tensorboard<2.15,>=2.14 in c:\\users\\manna\\anaconda3\\envs\\tensorflow_env1\\lib\\site-packages (from tensorflow-intel==2.14.0->tensorflow==2.14.0) (2.14.1)\n",
      "Requirement already satisfied: tensorflow-estimator<2.15,>=2.14.0 in c:\\users\\manna\\anaconda3\\envs\\tensorflow_env1\\lib\\site-packages (from tensorflow-intel==2.14.0->tensorflow==2.14.0) (2.14.0)\n",
      "Requirement already satisfied: keras<2.15,>=2.14.0 in c:\\users\\manna\\anaconda3\\envs\\tensorflow_env1\\lib\\site-packages (from tensorflow-intel==2.14.0->tensorflow==2.14.0) (2.14.0)\n",
      "Requirement already satisfied: wheel<1.0,>=0.23.0 in c:\\users\\manna\\anaconda3\\envs\\tensorflow_env1\\lib\\site-packages (from astunparse>=1.6.0->tensorflow-intel==2.14.0->tensorflow==2.14.0) (0.45.1)\n",
      "Requirement already satisfied: google-auth<3,>=1.6.3 in c:\\users\\manna\\anaconda3\\envs\\tensorflow_env1\\lib\\site-packages (from tensorboard<2.15,>=2.14->tensorflow-intel==2.14.0->tensorflow==2.14.0) (2.38.0)\n",
      "Requirement already satisfied: google-auth-oauthlib<1.1,>=0.5 in c:\\users\\manna\\anaconda3\\envs\\tensorflow_env1\\lib\\site-packages (from tensorboard<2.15,>=2.14->tensorflow-intel==2.14.0->tensorflow==2.14.0) (1.0.0)\n",
      "Requirement already satisfied: markdown>=2.6.8 in c:\\users\\manna\\anaconda3\\envs\\tensorflow_env1\\lib\\site-packages (from tensorboard<2.15,>=2.14->tensorflow-intel==2.14.0->tensorflow==2.14.0) (3.7)\n",
      "Requirement already satisfied: requests<3,>=2.21.0 in c:\\users\\manna\\anaconda3\\envs\\tensorflow_env1\\lib\\site-packages (from tensorboard<2.15,>=2.14->tensorflow-intel==2.14.0->tensorflow==2.14.0) (2.32.3)\n",
      "Requirement already satisfied: tensorboard-data-server<0.8.0,>=0.7.0 in c:\\users\\manna\\anaconda3\\envs\\tensorflow_env1\\lib\\site-packages (from tensorboard<2.15,>=2.14->tensorflow-intel==2.14.0->tensorflow==2.14.0) (0.7.2)\n",
      "Requirement already satisfied: werkzeug>=1.0.1 in c:\\users\\manna\\anaconda3\\envs\\tensorflow_env1\\lib\\site-packages (from tensorboard<2.15,>=2.14->tensorflow-intel==2.14.0->tensorflow==2.14.0) (3.1.3)\n",
      "Requirement already satisfied: cachetools<6.0,>=2.0.0 in c:\\users\\manna\\anaconda3\\envs\\tensorflow_env1\\lib\\site-packages (from google-auth<3,>=1.6.3->tensorboard<2.15,>=2.14->tensorflow-intel==2.14.0->tensorflow==2.14.0) (5.5.2)\n",
      "Requirement already satisfied: pyasn1-modules>=0.2.1 in c:\\users\\manna\\anaconda3\\envs\\tensorflow_env1\\lib\\site-packages (from google-auth<3,>=1.6.3->tensorboard<2.15,>=2.14->tensorflow-intel==2.14.0->tensorflow==2.14.0) (0.4.1)\n",
      "Requirement already satisfied: rsa<5,>=3.1.4 in c:\\users\\manna\\anaconda3\\envs\\tensorflow_env1\\lib\\site-packages (from google-auth<3,>=1.6.3->tensorboard<2.15,>=2.14->tensorflow-intel==2.14.0->tensorflow==2.14.0) (4.9)\n",
      "Requirement already satisfied: requests-oauthlib>=0.7.0 in c:\\users\\manna\\anaconda3\\envs\\tensorflow_env1\\lib\\site-packages (from google-auth-oauthlib<1.1,>=0.5->tensorboard<2.15,>=2.14->tensorflow-intel==2.14.0->tensorflow==2.14.0) (2.0.0)\n",
      "Requirement already satisfied: charset-normalizer<4,>=2 in c:\\users\\manna\\anaconda3\\envs\\tensorflow_env1\\lib\\site-packages (from requests<3,>=2.21.0->tensorboard<2.15,>=2.14->tensorflow-intel==2.14.0->tensorflow==2.14.0) (3.4.1)\n",
      "Requirement already satisfied: idna<4,>=2.5 in c:\\users\\manna\\anaconda3\\envs\\tensorflow_env1\\lib\\site-packages (from requests<3,>=2.21.0->tensorboard<2.15,>=2.14->tensorflow-intel==2.14.0->tensorflow==2.14.0) (3.10)\n",
      "Requirement already satisfied: urllib3<3,>=1.21.1 in c:\\users\\manna\\anaconda3\\envs\\tensorflow_env1\\lib\\site-packages (from requests<3,>=2.21.0->tensorboard<2.15,>=2.14->tensorflow-intel==2.14.0->tensorflow==2.14.0) (2.3.0)\n",
      "Requirement already satisfied: certifi>=2017.4.17 in c:\\users\\manna\\anaconda3\\envs\\tensorflow_env1\\lib\\site-packages (from requests<3,>=2.21.0->tensorboard<2.15,>=2.14->tensorflow-intel==2.14.0->tensorflow==2.14.0) (2025.1.31)\n",
      "Requirement already satisfied: MarkupSafe>=2.1.1 in c:\\users\\manna\\anaconda3\\envs\\tensorflow_env1\\lib\\site-packages (from werkzeug>=1.0.1->tensorboard<2.15,>=2.14->tensorflow-intel==2.14.0->tensorflow==2.14.0) (3.0.2)\n",
      "Requirement already satisfied: pyasn1<0.7.0,>=0.4.6 in c:\\users\\manna\\anaconda3\\envs\\tensorflow_env1\\lib\\site-packages (from pyasn1-modules>=0.2.1->google-auth<3,>=1.6.3->tensorboard<2.15,>=2.14->tensorflow-intel==2.14.0->tensorflow==2.14.0) (0.6.1)\n",
      "Requirement already satisfied: oauthlib>=3.0.0 in c:\\users\\manna\\anaconda3\\envs\\tensorflow_env1\\lib\\site-packages (from requests-oauthlib>=0.7.0->google-auth-oauthlib<1.1,>=0.5->tensorboard<2.15,>=2.14->tensorflow-intel==2.14.0->tensorflow==2.14.0) (3.2.2)\n",
      "Note: you may need to restart the kernel to use updated packages.\n"
     ]
    }
   ],
   "source": [
    "%pip install tensorflow==2.14.0\n"
   ]
  },
  {
   "cell_type": "code",
   "execution_count": 4,
   "metadata": {},
   "outputs": [],
   "source": [
    "import os\n",
    "import numpy as np\n",
    "import tensorflow as tf\n",
    "import keras\n",
    "from tensorflow.keras.preprocessing.image import ImageDataGenerator\n",
    "from flask import Flask, render_template, request"
   ]
  },
  {
   "cell_type": "markdown",
   "metadata": {},
   "source": []
  },
  {
   "cell_type": "code",
   "execution_count": 5,
   "metadata": {},
   "outputs": [],
   "source": [
    "# Loading Model\n",
    "model = tf.keras.models.load_model('D:\\Idea_jam\\plant_disease_model.keras', compile=False)"
   ]
  },
  {
   "cell_type": "markdown",
   "metadata": {},
   "source": []
  },
  {
   "cell_type": "code",
   "execution_count": 6,
   "metadata": {},
   "outputs": [
    {
     "name": "stdout",
     "output_type": "stream",
     "text": [
      "Requirement already satisfied: pandas in c:\\users\\manna\\anaconda3\\envs\\tensorflow_env1\\lib\\site-packages (2.2.3)\n",
      "Requirement already satisfied: numpy>=1.22.4 in c:\\users\\manna\\anaconda3\\envs\\tensorflow_env1\\lib\\site-packages (from pandas) (1.26.4)\n",
      "Requirement already satisfied: python-dateutil>=2.8.2 in c:\\users\\manna\\anaconda3\\envs\\tensorflow_env1\\lib\\site-packages (from pandas) (2.9.0.post0)\n",
      "Requirement already satisfied: pytz>=2020.1 in c:\\users\\manna\\anaconda3\\envs\\tensorflow_env1\\lib\\site-packages (from pandas) (2025.1)\n",
      "Requirement already satisfied: tzdata>=2022.7 in c:\\users\\manna\\anaconda3\\envs\\tensorflow_env1\\lib\\site-packages (from pandas) (2025.1)\n",
      "Requirement already satisfied: six>=1.5 in c:\\users\\manna\\anaconda3\\envs\\tensorflow_env1\\lib\\site-packages (from python-dateutil>=2.8.2->pandas) (1.17.0)\n",
      "Note: you may need to restart the kernel to use updated packages.\n"
     ]
    }
   ],
   "source": [
    "%pip install pandas"
   ]
  },
  {
   "cell_type": "markdown",
   "metadata": {},
   "source": []
  },
  {
   "cell_type": "code",
   "execution_count": 7,
   "metadata": {},
   "outputs": [],
   "source": [
    "import pandas as pd\n",
    "\n",
    "\n",
    "disease_info = pd.read_csv('disease_info.csv' , encoding='cp1252')\n",
    "supplement_info = pd.read_csv('supplement_info.csv',encoding='cp1252')"
   ]
  },
  {
   "cell_type": "markdown",
   "metadata": {},
   "source": []
  },
  {
   "cell_type": "code",
   "execution_count": null,
   "metadata": {},
   "outputs": [],
   "source": []
  },
  {
   "cell_type": "code",
   "execution_count": 8,
   "metadata": {},
   "outputs": [
    {
     "name": "stdout",
     "output_type": "stream",
     "text": [
      " * Serving Flask app '__main__'\n",
      " * Debug mode: on\n"
     ]
    },
    {
     "name": "stderr",
     "output_type": "stream",
     "text": [
      "WARNING: This is a development server. Do not use it in a production deployment. Use a production WSGI server instead.\n",
      " * Running on all addresses (0.0.0.0)\n",
      " * Running on http://127.0.0.1:5000\n",
      " * Running on http://192.168.29.106:5000\n",
      "Press CTRL+C to quit\n",
      "127.0.0.1 - - [15/Mar/2025 15:46:25] \"GET / HTTP/1.1\" 200 -\n",
      "127.0.0.1 - - [15/Mar/2025 15:46:25] \"GET /script.js HTTP/1.1\" 404 -\n",
      "127.0.0.1 - - [15/Mar/2025 15:46:25] \"GET /favicon.ico HTTP/1.1\" 404 -\n",
      "127.0.0.1 - - [15/Mar/2025 15:47:44] \"GET / HTTP/1.1\" 200 -\n",
      "127.0.0.1 - - [15/Mar/2025 15:47:44] \"GET /script.js HTTP/1.1\" 404 -\n",
      "127.0.0.1 - - [15/Mar/2025 15:47:44] \"GET /favicon.ico HTTP/1.1\" 404 -\n"
     ]
    }
   ],
   "source": [
    "app = Flask(__name__)\n",
    "@app.route(\"/\", methods=[\"GET\"])\n",
    "def hello_world():\n",
    "    return (render_template(\"index.html\"))\n",
    "\n",
    "@app.route(\"/pred\", methods=[\"POST\"])\n",
    "def predict():\n",
    "    imagefile= request.files['file']\n",
    "    image_path = \"D:\\Idea_jam\\images\" + imagefile.filename\n",
    "    imagefile.save(image_path)\n",
    "\n",
    "    class_name = ['Apple___Apple_scab',\n",
    "    'Apple___Black_rot',\n",
    "    'Apple___Cedar_apple_rust',\n",
    "    'Apple___healthy',\n",
    "    'Blueberry___healthy',\n",
    "    'Cherry_(including_sour)_Powdery_mildew',\n",
    "    'Cherry_(including_sour)_healthy',\n",
    "    'Corn_(maize)_Cercospora_leaf_spot Gray_leaf_spot',\n",
    "    'Corn_(maize)Common_rust',\n",
    "    'Corn_(maize)_Northern_Leaf_Blight',\n",
    "    'Corn_(maize)_healthy',\n",
    "    'Grape___Black_rot',\n",
    "    'Grape__Esca(Black_Measles)',\n",
    "    'Grape__Leaf_blight(Isariopsis_Leaf_Spot)',\n",
    "    'Grape___healthy',\n",
    "    'Orange__Haunglongbing(Citrus_greening)',\n",
    "    'Peach___Bacterial_spot',\n",
    "    'Peach___healthy',\n",
    "    'Pepper,bell__Bacterial_spot',\n",
    "    'Pepper,bell__healthy',\n",
    "    'Potato___Early_blight',\n",
    "    'Potato___Late_blight',\n",
    "    'Potato___healthy',\n",
    "    'Raspberry___healthy',\n",
    "    'Soybean___healthy',\n",
    "    'Squash___Powdery_mildew',\n",
    "    'Strawberry___Leaf_scorch',\n",
    "    'Strawberry___healthy',\n",
    "    'Tomato___Bacterial_spot',\n",
    "    'Tomato___Early_blight',\n",
    "    'Tomato___Late_blight',\n",
    "    'Tomato___Leaf_Mold',\n",
    "    'Tomato___Septoria_leaf_spot',\n",
    "    'Tomato___Spider_mites Two-spotted_spider_mite',\n",
    "    'Tomato___Target_Spot',\n",
    "    'Tomato___Tomato_Yellow_Leaf_Curl_Virus',\n",
    "    'Tomato___Tomato_mosaic_virus',\n",
    "    'Tomato___healthy']\n",
    "    image = tf.keras.preprocessing.image.load_img(image_path,target_size=(128,128))\n",
    "    input_arr = tf.keras.preprocessing.image.img_to_array(image)\n",
    "    input_arr = np.array([input_arr])  # Convert single image to a batch.\n",
    "    predictions = model.predict(input_arr)\n",
    "    result_index = np.argmax(predictions) #Return index of max element\n",
    "    model_prediction = class_name[result_index]\n",
    "    title = disease_info['disease_name'][result_index]\n",
    "    description =disease_info['description'][result_index]\n",
    "    prevent = disease_info['Possible Steps'][result_index]\n",
    "    image_url = disease_info['image_url'][result_index]\n",
    "    supplement_name = supplement_info['supplement name'][result_index]\n",
    "    supplement_image_url = supplement_info['supplement image'][result_index]\n",
    "    supplement_buy_link = supplement_info['buy link'][result_index]\n",
    "    return(render_template(\"index.html\", prediction=model_prediction , title = title , desc = description , prevent = prevent , \n",
    "                               image_url = image_url , pred = result_index ,sname = supplement_name , simage = supplement_image_url , buy_link = supplement_buy_link))\n",
    "\n",
    "\n",
    "if __name__ == '__main__':\n",
    "    app.run(host='0.0.0.0', port=5000 , debug=True, use_reloader=False,threaded=True)"
   ]
  }
 ],
 "metadata": {
  "kernelspec": {
   "display_name": "tensorflow_env1",
   "language": "python",
   "name": "python3"
  },
  "language_info": {
   "codemirror_mode": {
    "name": "ipython",
    "version": 3
   },
   "file_extension": ".py",
   "mimetype": "text/x-python",
   "name": "python",
   "nbconvert_exporter": "python",
   "pygments_lexer": "ipython3",
   "version": "3.10.16"
  }
 },
 "nbformat": 4,
 "nbformat_minor": 2
}
